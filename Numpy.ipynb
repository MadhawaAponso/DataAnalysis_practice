{
  "nbformat": 4,
  "nbformat_minor": 0,
  "metadata": {
    "colab": {
      "provenance": [],
      "toc_visible": true,
      "authorship_tag": "ABX9TyNyP3gS1nNGf8yzvascjrwb",
      "include_colab_link": true
    },
    "kernelspec": {
      "name": "python3",
      "display_name": "Python 3"
    },
    "language_info": {
      "name": "python"
    }
  },
  "cells": [
    {
      "cell_type": "markdown",
      "metadata": {
        "id": "view-in-github",
        "colab_type": "text"
      },
      "source": [
        "<a href=\"https://colab.research.google.com/github/MadhawaAponso/DataVisulaization_Practice/blob/main/Numpy.ipynb\" target=\"_parent\"><img src=\"https://colab.research.google.com/assets/colab-badge.svg\" alt=\"Open In Colab\"/></a>"
      ]
    },
    {
      "cell_type": "markdown",
      "source": [
        "# LEARN NUMPY\n",
        "\n",
        "## NumPy\n",
        "\n",
        "### Why NumPy?\n",
        "\n",
        "NumPy is a fundamental library in Python for numerical computing. It provides support for large, multi-dimensional arrays and matrices, along with a collection of mathematical functions to operate on these arrays efficiently. NumPy is particularly useful for scientific computing because it allows for fast array processing, leveraging optimized C code under the hood, making operations much faster than using Python's native lists.\n",
        "\n",
        "**Key reasons for using NumPy:**\n",
        "- **Performance**: Faster computations on large datasets.\n",
        "- **Convenience**: Simplifies operations like matrix multiplication, statistical calculations, and reshaping arrays.\n",
        "- **Integration**: Works well with other libraries like SciPy, Pandas, and Matplotlib for data analysis and visualization.\n",
        "\n",
        "---\n",
        "\n",
        "### What are we covering here?\n",
        "\n",
        "This notebook will cover the following topics:\n",
        "- **Most useful functions**\n",
        "- **NumPy data types and attributes**\n",
        "- **Creating arrays**\n",
        "- **Viewing arrays and matrices**\n",
        "- **Manipulating and comparing arrays**\n",
        "- **Sorting arrays**\n",
        "- **Use cases**\n",
        "\n",
        "By the end of this notebook, you will be familiar with NumPy's most important features and capable of applying it to a wide range of data-related tasks.\n",
        "\n",
        "---\n",
        "\n",
        "## Importing NumPy\n",
        "Start by importing NumPy:\n",
        "\n",
        "```python\n",
        "import numpy as np\n"
      ],
      "metadata": {
        "id": "BXpBgw6mBqgD"
      }
    },
    {
      "cell_type": "code",
      "source": [
        "import numpy as np"
      ],
      "metadata": {
        "id": "57hcciDiCD6F"
      },
      "execution_count": 61,
      "outputs": []
    },
    {
      "cell_type": "markdown",
      "source": [
        "#1. Data Types and Attributes\n",
        "NumPy arrays are called ndarrays (N-dimensional arrays). Let's explore how to create and inspect basic arrays."
      ],
      "metadata": {
        "id": "5-DxoRSrB5QL"
      }
    },
    {
      "cell_type": "code",
      "source": [
        "# Creating different types of arrays\n",
        "a1 = np.array([1, 2, 3])  # 1D array\n",
        "a2 = np.array([[1, 2, 3], [2, 3, 4]])  # 2D array\n",
        "a3 = np.array([[[1, 2, 3], [4, 5, 6]], [[12, 23, 34], [45, 54, 23]]])  # 3D array\n"
      ],
      "metadata": {
        "id": "JGpyLvbpB-Yz"
      },
      "execution_count": null,
      "outputs": []
    },
    {
      "cell_type": "code",
      "source": [
        "#Checking the types and shapes\n",
        "# Type of the array\n",
        "type(a1)\n",
        "\n",
        "# Shape of the arrays\n",
        "print(a2.shape)  # Output: (2, 3)\n",
        "print(a3.shape)  # Output: (2, 2, 3)\n",
        "\n",
        "# Size: Total number of elements in the arrays\n",
        "print(a1.size, a2.size, a3.size)\n"
      ],
      "metadata": {
        "colab": {
          "base_uri": "https://localhost:8080/"
        },
        "id": "FYcCcAO9CIDv",
        "outputId": "03fc243e-4394-46b7-89d5-d034c943617d"
      },
      "execution_count": 62,
      "outputs": [
        {
          "output_type": "stream",
          "name": "stdout",
          "text": [
            "(2, 3)\n",
            "(2, 2, 3)\n",
            "3 6 12\n"
          ]
        }
      ]
    },
    {
      "cell_type": "markdown",
      "source": [
        "#2. Creating Arrays\n",
        "NumPy provides several ways to create arrays from scratch:"
      ],
      "metadata": {
        "id": "ohnlYjOyCNkc"
      }
    },
    {
      "cell_type": "code",
      "source": [
        "# Simple array\n",
        "sample_array = np.array([1, 2, 3])\n",
        "\n",
        "# Array of ones\n",
        "array_with_ones = np.ones((2, 3))\n",
        "print(array_with_ones)\n",
        "\n",
        "# Array of zeros\n",
        "#np.ones() and np.zeros(): Create arrays filled with 1s and 0s.\n",
        "array_with_zeros = np.zeros((2, 3))\n",
        "print(array_with_zeros)\n",
        "\n",
        "# Array with a range of numbers\n",
        "#np.arange(): Create an array with evenly spaced values.\n",
        "range_array = np.arange(0, 10, 2)\n",
        "print(range_array)\n",
        "\n",
        "# Random arrays\n",
        "# np.random.rand(): Generates random numbers between 0 and 1.\n",
        "random_array = np.random.rand(2, 3)\n",
        "print(random_array)\n",
        "\n",
        "# Random integers\n",
        "# Generates random integers within a specified range.\n",
        "rand_int_array = np.random.randint(0, 10, size=(2, 3))\n",
        "print(rand_int_array)\n",
        "\n",
        "# Setting a seed for reproducibility\n",
        "np.random.seed(42)\n",
        "r_a = np.random.rand(2, 3)\n",
        "print(r_a)\n"
      ],
      "metadata": {
        "colab": {
          "base_uri": "https://localhost:8080/"
        },
        "id": "s75LVvo1CeXE",
        "outputId": "73d52399-d77a-4aa9-ca37-429b86aca162"
      },
      "execution_count": 63,
      "outputs": [
        {
          "output_type": "stream",
          "name": "stdout",
          "text": [
            "[[1. 1. 1.]\n",
            " [1. 1. 1.]]\n",
            "[[0. 0. 0.]\n",
            " [0. 0. 0.]]\n",
            "[0 2 4 6 8]\n",
            "[[0.81801477 0.86073058 0.00695213]\n",
            " [0.5107473  0.417411   0.22210781]]\n",
            "[[2 9 7]\n",
            " [5 7 8]]\n",
            "[[0.37454012 0.95071431 0.73199394]\n",
            " [0.59865848 0.15601864 0.15599452]]\n"
          ]
        }
      ]
    },
    {
      "cell_type": "markdown",
      "source": [
        "#3. Viewing Arrays and Matrices\n",
        "You can index and slice arrays to view specific elements:"
      ],
      "metadata": {
        "id": "8kpMLvmxCjhJ"
      }
    },
    {
      "cell_type": "code",
      "source": [
        "# Accessing elements in arrays\n",
        "print(a1[0])  # First element of 1D array\n",
        "print(a2[0])  # First row of 2D array\n",
        "print(a3[0])  # First 2D array from the 3D array\n"
      ],
      "metadata": {
        "colab": {
          "base_uri": "https://localhost:8080/"
        },
        "id": "3yQRXBIUC5v_",
        "outputId": "7fad1f81-3178-4728-ad93-79bb8fdac5e8"
      },
      "execution_count": 64,
      "outputs": [
        {
          "output_type": "stream",
          "name": "stdout",
          "text": [
            "1\n",
            "[1 2 3]\n",
            "[[1 2 3]\n",
            " [4 5 6]]\n"
          ]
        }
      ]
    },
    {
      "cell_type": "code",
      "source": [
        "#Advance indexing\n",
        "r_a1 = np.random.rand(2, 3, 4, 5)\n",
        "print(r_a1[1][1][:, 2])  # Nested indexing\n",
        "print(r_a1[1, 1, :, 2])  # Same as above, more efficient"
      ],
      "metadata": {
        "colab": {
          "base_uri": "https://localhost:8080/"
        },
        "id": "_WszogSpC8Wg",
        "outputId": "3286c235-2734-4194-d79e-d10d7efe3367"
      },
      "execution_count": 65,
      "outputs": [
        {
          "output_type": "stream",
          "name": "stdout",
          "text": [
            "[0.88721274 0.5612772  0.02541913 0.50857069]\n",
            "[0.88721274 0.5612772  0.02541913 0.50857069]\n"
          ]
        }
      ]
    },
    {
      "cell_type": "markdown",
      "source": [
        "# 4. Manipulating and Comparing Arrays\n",
        "You can easily perform arithmetic operations on NumPy arrays:"
      ],
      "metadata": {
        "id": "fCFkq2xuDAas"
      }
    },
    {
      "cell_type": "code",
      "source": [
        "# Element-wise operations\n",
        "ones = np.ones(3)\n",
        "print(a1 + ones)  # Addition\n",
        "print(a1 - ones)  # Subtraction\n",
        "print(a1 * ones)  # Multiplication\n",
        "\n",
        "# Multiplying arrays\n",
        "print(a2 * a1)  # Broadcasting example\n",
        "\n",
        "# Reshaping arrays\n",
        "reshaped_a2 = a2.reshape((2, 3, 1, 1))\n",
        "print(reshaped_a2)\n",
        "\n",
        "# Multiply reshaped array\n",
        "result = reshaped_a2 * r_a1\n",
        "print(result)\n"
      ],
      "metadata": {
        "colab": {
          "base_uri": "https://localhost:8080/"
        },
        "id": "rcmeKQSODOvR",
        "outputId": "e58ee16d-720e-4258-9828-c70fe1e20d04"
      },
      "execution_count": 66,
      "outputs": [
        {
          "output_type": "stream",
          "name": "stdout",
          "text": [
            "[2. 3. 4.]\n",
            "[0. 1. 2.]\n",
            "[1. 2. 3.]\n",
            "[[ 1  4  9]\n",
            " [ 2  6 12]]\n",
            "[[[[1]]\n",
            "\n",
            "  [[2]]\n",
            "\n",
            "  [[3]]]\n",
            "\n",
            "\n",
            " [[[2]]\n",
            "\n",
            "  [[3]]\n",
            "\n",
            "  [[4]]]]\n",
            "[[[[0.05808361 0.86617615 0.60111501 0.70807258 0.02058449]\n",
            "   [0.96990985 0.83244264 0.21233911 0.18182497 0.18340451]\n",
            "   [0.30424224 0.52475643 0.43194502 0.29122914 0.61185289]\n",
            "   [0.13949386 0.29214465 0.36636184 0.45606998 0.78517596]]\n",
            "\n",
            "  [[0.39934756 1.02846888 1.18482914 0.09290083 1.2150897 ]\n",
            "   [0.34104825 0.13010319 1.89777107 1.93126407 1.6167947 ]\n",
            "   [0.60922754 0.19534423 1.36846605 0.88030499 0.24407647]\n",
            "   [0.99035382 0.06877704 1.8186408  0.51755996 1.32504457]]\n",
            "\n",
            "  [[0.93513323 1.56020406 1.64013084 0.55456337 2.90875388]\n",
            "   [2.32539847 2.81849682 2.68448205 1.79369994 2.76562271]\n",
            "   [0.26547751 0.58794859 0.13568187 0.97599099 1.16603187]\n",
            "   [0.8140471  2.48621253 1.07025998 0.84280353 1.62808825]]]\n",
            "\n",
            "\n",
            " [[[0.28184845 1.60439396 0.14910129 1.97377387 1.54448954]\n",
            "   [0.39743136 0.01104423 1.63092286 1.41371469 1.45801434]\n",
            "   [1.54254069 0.1480893  0.71693146 0.23173812 1.72620685]\n",
            "   [1.24659625 0.66179605 0.1271167  0.62196464 0.65036664]]\n",
            "\n",
            "  [[2.18881854 1.91267241 2.66163823 1.41664478 0.35878274]\n",
            "   [2.13973436 2.28235515 1.68383159 2.31290154 1.48138679]\n",
            "   [1.56819849 1.28262306 0.07625738 0.32367428 0.09428756]\n",
            "   [1.90923123 0.94306794 1.52571207 2.72269942 0.74787669]]\n",
            "\n",
            "  [[1.64153169 3.02220455 0.91519266 0.30791964 1.15900581]\n",
            "   [0.64488515 3.71879061 3.23248152 2.53361503 3.48584236]\n",
            "   [3.21468831 0.74628024 3.57023599 2.15736897 3.22976062]\n",
            "   [3.5843652  1.2720139  0.4402077  0.91174065 1.70843115]]]]\n"
          ]
        }
      ]
    },
    {
      "cell_type": "markdown",
      "source": [
        "# 5. Sorting Arrays"
      ],
      "metadata": {
        "id": "TxZIFdyyDREg"
      }
    },
    {
      "cell_type": "code",
      "source": [
        "# Sorting an array\n",
        "sorted_array = np.sort(a1)\n",
        "print(sorted_array)\n",
        "\n",
        "# Sorting along an axis\n",
        "sorted_a2 = np.sort(a2, axis=0)\n",
        "print(sorted_a2)\n"
      ],
      "metadata": {
        "colab": {
          "base_uri": "https://localhost:8080/"
        },
        "id": "FVGimPsqDbNT",
        "outputId": "98219641-094b-4b1a-96d0-44bf0171a5a4"
      },
      "execution_count": 67,
      "outputs": [
        {
          "output_type": "stream",
          "name": "stdout",
          "text": [
            "[1 2 3]\n",
            "[[1 2 3]\n",
            " [2 3 4]]\n"
          ]
        }
      ]
    },
    {
      "cell_type": "markdown",
      "source": [
        "# 6. Reshaping and Transposing Arrays"
      ],
      "metadata": {
        "id": "badBFAphDbj3"
      }
    },
    {
      "cell_type": "code",
      "source": [
        "# Reshape an array\n",
        "reshaped_a1 = a1.reshape((3, 1))\n",
        "print(reshaped_a1)\n",
        "\n",
        "# Transpose an array (switch rows and columns)\n",
        "transposed_a2 = a2.T\n",
        "print(transposed_a2)\n"
      ],
      "metadata": {
        "colab": {
          "base_uri": "https://localhost:8080/"
        },
        "id": "qHvauxGrDk9j",
        "outputId": "707b4bf9-d67d-45d0-c40d-eabae04af925"
      },
      "execution_count": 68,
      "outputs": [
        {
          "output_type": "stream",
          "name": "stdout",
          "text": [
            "[[1]\n",
            " [2]\n",
            " [3]]\n",
            "[[1 2]\n",
            " [2 3]\n",
            " [3 4]]\n"
          ]
        }
      ]
    },
    {
      "cell_type": "markdown",
      "source": [
        "# 7. Mathematical Operations"
      ],
      "metadata": {
        "id": "dw8G5XQGDlbU"
      }
    },
    {
      "cell_type": "code",
      "source": [
        "# Basic functions\n",
        "print(np.mean(a1))  # Mean\n",
        "print(np.max(a2))   # Maximum\n",
        "print(np.min(a2))   # Minimum\n",
        "print(np.sum(a2))   # Sum of elements\n",
        "\n",
        "# Standard deviation and variance\n",
        "print(np.std(a2))   # Standard deviation\n",
        "print(np.var(a2))   # Variance\n",
        "\n",
        "# Dot product\n",
        "print(np.dot(a1, a1))  # Dot product of two vectors\n"
      ],
      "metadata": {
        "colab": {
          "base_uri": "https://localhost:8080/"
        },
        "id": "nOm6H1gFDunr",
        "outputId": "b21c2526-37ed-41d2-a02d-f5f158603ab6"
      },
      "execution_count": 69,
      "outputs": [
        {
          "output_type": "stream",
          "name": "stdout",
          "text": [
            "2.0\n",
            "4\n",
            "1\n",
            "15\n",
            "0.9574271077563381\n",
            "0.9166666666666666\n",
            "14\n"
          ]
        }
      ]
    },
    {
      "cell_type": "code",
      "source": [],
      "metadata": {
        "id": "n6lpycrkDwg4"
      },
      "execution_count": null,
      "outputs": []
    }
  ]
}